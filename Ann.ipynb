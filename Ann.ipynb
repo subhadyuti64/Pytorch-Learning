{
 "cells": [
  {
   "cell_type": "code",
   "execution_count": 191,
   "id": "3a930b01",
   "metadata": {},
   "outputs": [],
   "source": [
    "import torch\n",
    "import torch.nn as nn\n",
    "import pandas as pd\n",
    "from sklearn.model_selection import train_test_split\n",
    "from torch.utils.data import DataLoader, Dataset\n",
    "import torch.optim as optim\n",
    "import matplotlib.pyplot as plt\n",
    "from sklearn.metrics import accuracy_score\n",
    "import numpy as np"
   ]
  },
  {
   "cell_type": "code",
   "execution_count": 192,
   "id": "eecaf1ea",
   "metadata": {},
   "outputs": [
    {
     "data": {
      "text/plain": [
       "<torch._C.Generator at 0x12115ddf0>"
      ]
     },
     "execution_count": 192,
     "metadata": {},
     "output_type": "execute_result"
    }
   ],
   "source": [
    "torch.manual_seed(42)"
   ]
  },
  {
   "cell_type": "code",
   "execution_count": 193,
   "id": "475207b9",
   "metadata": {},
   "outputs": [
    {
     "data": {
      "text/html": [
       "<div>\n",
       "<style scoped>\n",
       "    .dataframe tbody tr th:only-of-type {\n",
       "        vertical-align: middle;\n",
       "    }\n",
       "\n",
       "    .dataframe tbody tr th {\n",
       "        vertical-align: top;\n",
       "    }\n",
       "\n",
       "    .dataframe thead th {\n",
       "        text-align: right;\n",
       "    }\n",
       "</style>\n",
       "<table border=\"1\" class=\"dataframe\">\n",
       "  <thead>\n",
       "    <tr style=\"text-align: right;\">\n",
       "      <th></th>\n",
       "      <th>label</th>\n",
       "      <th>pixel1</th>\n",
       "      <th>pixel2</th>\n",
       "      <th>pixel3</th>\n",
       "      <th>pixel4</th>\n",
       "      <th>pixel5</th>\n",
       "      <th>pixel6</th>\n",
       "      <th>pixel7</th>\n",
       "      <th>pixel8</th>\n",
       "      <th>pixel9</th>\n",
       "      <th>...</th>\n",
       "      <th>pixel775</th>\n",
       "      <th>pixel776</th>\n",
       "      <th>pixel777</th>\n",
       "      <th>pixel778</th>\n",
       "      <th>pixel779</th>\n",
       "      <th>pixel780</th>\n",
       "      <th>pixel781</th>\n",
       "      <th>pixel782</th>\n",
       "      <th>pixel783</th>\n",
       "      <th>pixel784</th>\n",
       "    </tr>\n",
       "  </thead>\n",
       "  <tbody>\n",
       "    <tr>\n",
       "      <th>0</th>\n",
       "      <td>9</td>\n",
       "      <td>0</td>\n",
       "      <td>0</td>\n",
       "      <td>0</td>\n",
       "      <td>0</td>\n",
       "      <td>0</td>\n",
       "      <td>0</td>\n",
       "      <td>0</td>\n",
       "      <td>0</td>\n",
       "      <td>0</td>\n",
       "      <td>...</td>\n",
       "      <td>0</td>\n",
       "      <td>7</td>\n",
       "      <td>0</td>\n",
       "      <td>50</td>\n",
       "      <td>205</td>\n",
       "      <td>196</td>\n",
       "      <td>213</td>\n",
       "      <td>165</td>\n",
       "      <td>0</td>\n",
       "      <td>0</td>\n",
       "    </tr>\n",
       "    <tr>\n",
       "      <th>1</th>\n",
       "      <td>7</td>\n",
       "      <td>0</td>\n",
       "      <td>0</td>\n",
       "      <td>0</td>\n",
       "      <td>0</td>\n",
       "      <td>0</td>\n",
       "      <td>0</td>\n",
       "      <td>0</td>\n",
       "      <td>0</td>\n",
       "      <td>0</td>\n",
       "      <td>...</td>\n",
       "      <td>0</td>\n",
       "      <td>0</td>\n",
       "      <td>0</td>\n",
       "      <td>0</td>\n",
       "      <td>0</td>\n",
       "      <td>0</td>\n",
       "      <td>0</td>\n",
       "      <td>0</td>\n",
       "      <td>0</td>\n",
       "      <td>0</td>\n",
       "    </tr>\n",
       "    <tr>\n",
       "      <th>2</th>\n",
       "      <td>0</td>\n",
       "      <td>0</td>\n",
       "      <td>0</td>\n",
       "      <td>0</td>\n",
       "      <td>0</td>\n",
       "      <td>0</td>\n",
       "      <td>1</td>\n",
       "      <td>0</td>\n",
       "      <td>0</td>\n",
       "      <td>0</td>\n",
       "      <td>...</td>\n",
       "      <td>142</td>\n",
       "      <td>142</td>\n",
       "      <td>142</td>\n",
       "      <td>21</td>\n",
       "      <td>0</td>\n",
       "      <td>3</td>\n",
       "      <td>0</td>\n",
       "      <td>0</td>\n",
       "      <td>0</td>\n",
       "      <td>0</td>\n",
       "    </tr>\n",
       "    <tr>\n",
       "      <th>3</th>\n",
       "      <td>8</td>\n",
       "      <td>0</td>\n",
       "      <td>0</td>\n",
       "      <td>0</td>\n",
       "      <td>0</td>\n",
       "      <td>0</td>\n",
       "      <td>0</td>\n",
       "      <td>0</td>\n",
       "      <td>0</td>\n",
       "      <td>0</td>\n",
       "      <td>...</td>\n",
       "      <td>0</td>\n",
       "      <td>0</td>\n",
       "      <td>0</td>\n",
       "      <td>0</td>\n",
       "      <td>0</td>\n",
       "      <td>0</td>\n",
       "      <td>0</td>\n",
       "      <td>0</td>\n",
       "      <td>0</td>\n",
       "      <td>0</td>\n",
       "    </tr>\n",
       "    <tr>\n",
       "      <th>4</th>\n",
       "      <td>8</td>\n",
       "      <td>0</td>\n",
       "      <td>0</td>\n",
       "      <td>0</td>\n",
       "      <td>0</td>\n",
       "      <td>0</td>\n",
       "      <td>0</td>\n",
       "      <td>0</td>\n",
       "      <td>0</td>\n",
       "      <td>0</td>\n",
       "      <td>...</td>\n",
       "      <td>213</td>\n",
       "      <td>203</td>\n",
       "      <td>174</td>\n",
       "      <td>151</td>\n",
       "      <td>188</td>\n",
       "      <td>10</td>\n",
       "      <td>0</td>\n",
       "      <td>0</td>\n",
       "      <td>0</td>\n",
       "      <td>0</td>\n",
       "    </tr>\n",
       "  </tbody>\n",
       "</table>\n",
       "<p>5 rows × 785 columns</p>\n",
       "</div>"
      ],
      "text/plain": [
       "   label  pixel1  pixel2  pixel3  pixel4  pixel5  pixel6  pixel7  pixel8  \\\n",
       "0      9       0       0       0       0       0       0       0       0   \n",
       "1      7       0       0       0       0       0       0       0       0   \n",
       "2      0       0       0       0       0       0       1       0       0   \n",
       "3      8       0       0       0       0       0       0       0       0   \n",
       "4      8       0       0       0       0       0       0       0       0   \n",
       "\n",
       "   pixel9  ...  pixel775  pixel776  pixel777  pixel778  pixel779  pixel780  \\\n",
       "0       0  ...         0         7         0        50       205       196   \n",
       "1       0  ...         0         0         0         0         0         0   \n",
       "2       0  ...       142       142       142        21         0         3   \n",
       "3       0  ...         0         0         0         0         0         0   \n",
       "4       0  ...       213       203       174       151       188        10   \n",
       "\n",
       "   pixel781  pixel782  pixel783  pixel784  \n",
       "0       213       165         0         0  \n",
       "1         0         0         0         0  \n",
       "2         0         0         0         0  \n",
       "3         0         0         0         0  \n",
       "4         0         0         0         0  \n",
       "\n",
       "[5 rows x 785 columns]"
      ]
     },
     "execution_count": 193,
     "metadata": {},
     "output_type": "execute_result"
    }
   ],
   "source": [
    "data=pd.read_csv('fmnist_small.csv')\n",
    "data.head()"
   ]
  },
  {
   "cell_type": "code",
   "execution_count": 194,
   "id": "828901a8",
   "metadata": {},
   "outputs": [
    {
     "data": {
      "text/plain": [
       "(6000, 785)"
      ]
     },
     "execution_count": 194,
     "metadata": {},
     "output_type": "execute_result"
    }
   ],
   "source": [
    "data.shape"
   ]
  },
  {
   "cell_type": "code",
   "execution_count": 195,
   "id": "05a42c03",
   "metadata": {},
   "outputs": [],
   "source": [
    "x=data.drop(columns=['label']).values\n",
    "y=data['label'].values"
   ]
  },
  {
   "cell_type": "code",
   "execution_count": 196,
   "id": "ff229738",
   "metadata": {},
   "outputs": [
    {
     "name": "stdout",
     "output_type": "stream",
     "text": [
      "(6000, 784)\n",
      "(6000,)\n"
     ]
    }
   ],
   "source": [
    "print(x.shape)\n",
    "print(y.shape)\n"
   ]
  },
  {
   "cell_type": "code",
   "execution_count": 197,
   "id": "79602e90",
   "metadata": {},
   "outputs": [],
   "source": [
    "x_train,x_test,y_train,y_test=train_test_split(x,y,test_size=0.2,random_state=42)"
   ]
  },
  {
   "cell_type": "code",
   "execution_count": 198,
   "id": "4973821d",
   "metadata": {},
   "outputs": [],
   "source": [
    "x_train=x_train/255.0\n",
    "x_test=x_test/255.0"
   ]
  },
  {
   "cell_type": "code",
   "execution_count": 199,
   "id": "4381cbe1",
   "metadata": {},
   "outputs": [],
   "source": [
    "class CustomDataset(Dataset):\n",
    "    def __init__(self,features, labels):\n",
    "        self.features = torch.tensor(features, dtype=torch.float32)\n",
    "        self.labels = torch.tensor(labels, dtype=torch.long)\n",
    "        \n",
    "    def __len__(self):\n",
    "        return len(self.features)\n",
    "    \n",
    "    def __getitem__(self, idx):\n",
    "        return self.features[idx], self.labels[idx]\n"
   ]
  },
  {
   "cell_type": "code",
   "execution_count": 200,
   "id": "8332924c",
   "metadata": {},
   "outputs": [],
   "source": [
    "train_dataset = CustomDataset(x_train, y_train)\n",
    "test_dataset = CustomDataset(x_test, y_test)"
   ]
  },
  {
   "cell_type": "code",
   "execution_count": 201,
   "id": "de1e832d",
   "metadata": {},
   "outputs": [
    {
     "data": {
      "text/plain": [
       "1200"
      ]
     },
     "execution_count": 201,
     "metadata": {},
     "output_type": "execute_result"
    }
   ],
   "source": [
    "len(train_dataset),\n",
    "len(test_dataset)"
   ]
  },
  {
   "cell_type": "code",
   "execution_count": 202,
   "id": "8a590b37",
   "metadata": {},
   "outputs": [],
   "source": [
    "train_loader = DataLoader(train_dataset, batch_size=32, shuffle=True)\n",
    "test_loader = DataLoader(test_dataset, batch_size=32, shuffle=False)"
   ]
  },
  {
   "cell_type": "code",
   "execution_count": 203,
   "id": "384809cc",
   "metadata": {},
   "outputs": [],
   "source": [
    "class MyNN(nn.Module):\n",
    "    def __init__(self):\n",
    "        super().__init__()\n",
    "        self.model=nn.Sequential(\n",
    "            # 784->128->64->10\n",
    "            nn.Linear(784, 128),\n",
    "            nn.BatchNorm1d(128),\n",
    "            nn.ReLU(),\n",
    "            nn.Dropout(0.3),\n",
    "            nn.Linear(128, 64),\n",
    "            nn.BatchNorm1d(64), \n",
    "            nn.ReLU(), \n",
    "            nn.Dropout(0.3),\n",
    "            nn.Linear(64, 10)\n",
    "        )\n",
    "        \n",
    "    def forward(self, x):\n",
    "        return self.model(x)"
   ]
  },
  {
   "cell_type": "code",
   "execution_count": 204,
   "id": "73cae238",
   "metadata": {},
   "outputs": [],
   "source": [
    "learning_rate = 0.009\n",
    "epochs=100"
   ]
  },
  {
   "cell_type": "code",
   "execution_count": 205,
   "id": "87af4cc5",
   "metadata": {},
   "outputs": [],
   "source": [
    "model=MyNN()\n"
   ]
  },
  {
   "cell_type": "code",
   "execution_count": 206,
   "id": "c93c1edb",
   "metadata": {},
   "outputs": [],
   "source": [
    "loss_fn=nn.CrossEntropyLoss()\n",
    "optimizer=optim.Adam(model.parameters(),lr=learning_rate,weight_decay=1e-4)"
   ]
  },
  {
   "cell_type": "code",
   "execution_count": 207,
   "id": "d9942ef4",
   "metadata": {},
   "outputs": [
    {
     "name": "stdout",
     "output_type": "stream",
     "text": [
      "Epoch 1/100, Loss: 0.6920\n",
      "Epoch 2/100, Loss: 0.5166\n",
      "Epoch 3/100, Loss: 0.5007\n",
      "Epoch 4/100, Loss: 0.4732\n",
      "Epoch 5/100, Loss: 0.8197\n",
      "Epoch 6/100, Loss: 0.6527\n",
      "Epoch 7/100, Loss: 0.6237\n",
      "Epoch 8/100, Loss: 0.4230\n",
      "Epoch 9/100, Loss: 0.7474\n",
      "Epoch 10/100, Loss: 0.6837\n",
      "Epoch 11/100, Loss: 0.3152\n",
      "Epoch 12/100, Loss: 0.2077\n",
      "Epoch 13/100, Loss: 0.5512\n",
      "Epoch 14/100, Loss: 0.5242\n",
      "Epoch 15/100, Loss: 0.6798\n",
      "Epoch 16/100, Loss: 0.2646\n",
      "Epoch 17/100, Loss: 0.9470\n",
      "Epoch 18/100, Loss: 0.8144\n",
      "Epoch 19/100, Loss: 0.5161\n",
      "Epoch 20/100, Loss: 0.3245\n",
      "Epoch 21/100, Loss: 0.1670\n",
      "Epoch 22/100, Loss: 0.4867\n",
      "Epoch 23/100, Loss: 0.3177\n",
      "Epoch 24/100, Loss: 0.2455\n",
      "Epoch 25/100, Loss: 0.3890\n",
      "Epoch 26/100, Loss: 0.6306\n",
      "Epoch 27/100, Loss: 0.5363\n",
      "Epoch 28/100, Loss: 0.3321\n",
      "Epoch 29/100, Loss: 0.3869\n",
      "Epoch 30/100, Loss: 0.4075\n",
      "Epoch 31/100, Loss: 0.7209\n",
      "Epoch 32/100, Loss: 0.6005\n",
      "Epoch 33/100, Loss: 0.5043\n",
      "Epoch 34/100, Loss: 0.4368\n",
      "Epoch 35/100, Loss: 0.5520\n",
      "Epoch 36/100, Loss: 0.3590\n",
      "Epoch 37/100, Loss: 0.4529\n",
      "Epoch 38/100, Loss: 0.4529\n",
      "Epoch 39/100, Loss: 0.3155\n",
      "Epoch 40/100, Loss: 0.5642\n",
      "Epoch 41/100, Loss: 0.4801\n",
      "Epoch 42/100, Loss: 0.6455\n",
      "Epoch 43/100, Loss: 0.7299\n",
      "Epoch 44/100, Loss: 0.4764\n",
      "Epoch 45/100, Loss: 0.4910\n",
      "Epoch 46/100, Loss: 0.4920\n",
      "Epoch 47/100, Loss: 0.4157\n",
      "Epoch 48/100, Loss: 0.4315\n",
      "Epoch 49/100, Loss: 0.3212\n",
      "Epoch 50/100, Loss: 0.3274\n",
      "Epoch 51/100, Loss: 0.8377\n",
      "Epoch 52/100, Loss: 0.4453\n",
      "Epoch 53/100, Loss: 0.2033\n",
      "Epoch 54/100, Loss: 0.5535\n",
      "Epoch 55/100, Loss: 0.4520\n",
      "Epoch 56/100, Loss: 0.5302\n",
      "Epoch 57/100, Loss: 0.2688\n",
      "Epoch 58/100, Loss: 0.3146\n",
      "Epoch 59/100, Loss: 0.2582\n",
      "Epoch 60/100, Loss: 0.4096\n",
      "Epoch 61/100, Loss: 0.6002\n",
      "Epoch 62/100, Loss: 0.6301\n",
      "Epoch 63/100, Loss: 0.6411\n",
      "Epoch 64/100, Loss: 0.3432\n",
      "Epoch 65/100, Loss: 0.5524\n",
      "Epoch 66/100, Loss: 0.4506\n",
      "Epoch 67/100, Loss: 0.5381\n",
      "Epoch 68/100, Loss: 0.6293\n",
      "Epoch 69/100, Loss: 0.3425\n",
      "Epoch 70/100, Loss: 0.2513\n",
      "Epoch 71/100, Loss: 0.3199\n",
      "Epoch 72/100, Loss: 0.3518\n",
      "Epoch 73/100, Loss: 0.6807\n",
      "Epoch 74/100, Loss: 0.2038\n",
      "Epoch 75/100, Loss: 0.5109\n",
      "Epoch 76/100, Loss: 0.2287\n",
      "Epoch 77/100, Loss: 0.3146\n",
      "Epoch 78/100, Loss: 0.3563\n",
      "Epoch 79/100, Loss: 0.2940\n",
      "Epoch 80/100, Loss: 0.3633\n",
      "Epoch 81/100, Loss: 0.3073\n",
      "Epoch 82/100, Loss: 0.6823\n",
      "Epoch 83/100, Loss: 0.8680\n",
      "Epoch 84/100, Loss: 0.4910\n",
      "Epoch 85/100, Loss: 0.3890\n",
      "Epoch 86/100, Loss: 0.3125\n",
      "Epoch 87/100, Loss: 0.5950\n",
      "Epoch 88/100, Loss: 0.3600\n",
      "Epoch 89/100, Loss: 1.0119\n",
      "Epoch 90/100, Loss: 0.4247\n",
      "Epoch 91/100, Loss: 0.6500\n",
      "Epoch 92/100, Loss: 0.3529\n",
      "Epoch 93/100, Loss: 0.3213\n",
      "Epoch 94/100, Loss: 0.4971\n",
      "Epoch 95/100, Loss: 0.4332\n",
      "Epoch 96/100, Loss: 0.3211\n",
      "Epoch 97/100, Loss: 0.3737\n",
      "Epoch 98/100, Loss: 0.6049\n",
      "Epoch 99/100, Loss: 0.3089\n",
      "Epoch 100/100, Loss: 0.3782\n"
     ]
    }
   ],
   "source": [
    "for epoch in range(epochs):\n",
    "    for batch_features,batch_labels in train_loader:\n",
    "        y_pred=model(batch_features)\n",
    "        loss=loss_fn(y_pred,batch_labels)\n",
    "        optimizer.zero_grad()\n",
    "        loss.backward()\n",
    "        optimizer.step()\n",
    "    print(f\"Epoch {epoch+1}/{epochs}, Loss: {loss.item():.4f}\")\n",
    "        "
   ]
  },
  {
   "cell_type": "code",
   "execution_count": 208,
   "id": "a4d1b038",
   "metadata": {},
   "outputs": [
    {
     "name": "stdout",
     "output_type": "stream",
     "text": [
      "Accuracy of the model on the test set: 80.67%\n"
     ]
    }
   ],
   "source": [
    "model.eval()\n",
    "correct=0\n",
    "total=0\n",
    "with torch.no_grad():\n",
    "    for batch_features,batch_labels in test_loader:\n",
    "        y_pred=model(batch_features)\n",
    "        _, predicted=torch.max(y_pred.data,1)\n",
    "        total+=batch_labels.shape[0]\n",
    "        correct+=(predicted==batch_labels).sum().item()\n",
    "accuracy=100*correct/total\n",
    "print(f\"Accuracy of the model on the test set: {accuracy:.2f}%\")\n"
   ]
  }
 ],
 "metadata": {
  "kernelspec": {
   "display_name": "base",
   "language": "python",
   "name": "python3"
  },
  "language_info": {
   "codemirror_mode": {
    "name": "ipython",
    "version": 3
   },
   "file_extension": ".py",
   "mimetype": "text/x-python",
   "name": "python",
   "nbconvert_exporter": "python",
   "pygments_lexer": "ipython3",
   "version": "3.12.7"
  }
 },
 "nbformat": 4,
 "nbformat_minor": 5
}
