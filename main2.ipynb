{
 "cells": [
  {
   "cell_type": "markdown",
   "id": "17936bf8",
   "metadata": {},
   "source": [
    "Introduction to Pytorch"
   ]
  },
  {
   "cell_type": "code",
   "execution_count": 1,
   "id": "58754d0d",
   "metadata": {},
   "outputs": [],
   "source": [
    "import torch"
   ]
  },
  {
   "cell_type": "code",
   "execution_count": 4,
   "id": "e0c98752",
   "metadata": {},
   "outputs": [
    {
     "name": "stdout",
     "output_type": "stream",
     "text": [
      "2.7.0\n"
     ]
    }
   ],
   "source": [
    "print(torch.__version__)\n"
   ]
  },
  {
   "cell_type": "markdown",
   "id": "43f45d8c",
   "metadata": {},
   "source": [
    "TENSORS IN PYTORCH"
   ]
  },
  {
   "cell_type": "code",
   "execution_count": 15,
   "id": "41108ff9",
   "metadata": {},
   "outputs": [
    {
     "name": "stdout",
     "output_type": "stream",
     "text": [
      "tensor([[0., 0., 0.],\n",
      "        [0., 0., 0.]])\n",
      "tensor([[1., 1., 1.],\n",
      "        [1., 1., 1.]])\n",
      "tensor([[0.6938, 0.9693, 0.6178],\n",
      "        [0.3304, 0.5479, 0.4440]])\n",
      "tensor([[0.4581, 0.4829, 0.3125],\n",
      "        [0.6150, 0.2139, 0.4118]])\n",
      "tensor([[1, 2, 3, 4],\n",
      "        [5, 6, 7, 8]])\n"
     ]
    }
   ],
   "source": [
    "# Create Tensors\n",
    "\n",
    "a=torch.empty(2, 3)  # 2x3 tensor with uninitialized data\n",
    "type(a)\n",
    "\n",
    "b=torch.zeros(2, 3)  # 2x3 tensor filled with zeros\n",
    "print(b)\n",
    "\n",
    "c=torch.ones(2, 3)  # 2x3 tensor filled with ones\n",
    "print(c)\n",
    "\n",
    "d=torch.rand(2, 3)  # 2x3 tensor filled with random numbers from a uniform distribution\n",
    "print(d)\n",
    "\n",
    "torch.manual_seed(10)  # Set the random seed for reproducibility\n",
    "e=torch.rand(2, 3)  # 2x3 tensor filled with random numbers from a uniform distribution\n",
    "print(e)\n",
    "\n",
    "f=torch.tensor(([1,2,3,4],[5,6,7,8]))  # Create a tensor from a list\n",
    "print(f)\n"
   ]
  },
  {
   "cell_type": "code",
   "execution_count": 16,
   "id": "8d23cb53",
   "metadata": {},
   "outputs": [
    {
     "data": {
      "text/plain": [
       "torch.Size([2, 3])"
      ]
     },
     "execution_count": 16,
     "metadata": {},
     "output_type": "execute_result"
    }
   ],
   "source": [
    "a.shape"
   ]
  },
  {
   "cell_type": "code",
   "execution_count": 19,
   "id": "a8e9f0f4",
   "metadata": {},
   "outputs": [
    {
     "data": {
      "text/plain": [
       "torch.float32"
      ]
     },
     "execution_count": 19,
     "metadata": {},
     "output_type": "execute_result"
    }
   ],
   "source": [
    "a.dtype"
   ]
  },
  {
   "cell_type": "code",
   "execution_count": 20,
   "id": "3da987e7",
   "metadata": {},
   "outputs": [
    {
     "name": "stdout",
     "output_type": "stream",
     "text": [
      "tensor([[1, 3, 4, 5],\n",
      "        [5, 6, 7, 8]], dtype=torch.int32)\n"
     ]
    }
   ],
   "source": [
    "b=torch.tensor(([1,3,4,5],[5,6,7,8]), dtype=torch.int32)  # Create a tensor with a specific data type\n",
    "print(b)"
   ]
  },
  {
   "cell_type": "code",
   "execution_count": 22,
   "id": "7d8b56d0",
   "metadata": {},
   "outputs": [
    {
     "name": "stdout",
     "output_type": "stream",
     "text": [
      "tensor([[0.6938, 0.9693, 0.6178],\n",
      "        [0.3304, 0.5479, 0.4440]])\n"
     ]
    }
   ],
   "source": [
    "i=torch.rand_like(a,dtype=torch.float32)  # Create a tensor with the same size as x but with random values\n",
    "\n",
    "print(i)"
   ]
  },
  {
   "cell_type": "code",
   "execution_count": 26,
   "id": "34aadebd",
   "metadata": {},
   "outputs": [
    {
     "name": "stdout",
     "output_type": "stream",
     "text": [
      "tensor([[0.8067, 0.8379, 0.7694],\n",
      "        [0.6694, 0.7203, 0.2235]])\n"
     ]
    }
   ],
   "source": [
    "# Mathematical Operations\n",
    "x=torch.rand(2, 3)\n",
    "print(x)\n"
   ]
  },
  {
   "cell_type": "code",
   "execution_count": null,
   "id": "7080da58",
   "metadata": {},
   "outputs": [
    {
     "name": "stdout",
     "output_type": "stream",
     "text": [
      "tensor([[1.8067, 1.8379, 1.7694],\n",
      "        [1.6694, 1.7203, 1.2235]])\n",
      "tensor([[-0.1933, -0.1621, -0.2306],\n",
      "        [-0.3306, -0.2797, -0.7765]])\n",
      "tensor([[1.6133, 1.6757, 1.5387],\n",
      "        [1.3388, 1.4405, 0.4470]])\n",
      "tensor([[0.4033, 0.4189, 0.3847],\n",
      "        [0.3347, 0.3601, 0.1117]])\n",
      "tensor([[4., 4., 3.],\n",
      "        [3., 3., 1.]])\n"
     ]
    }
   ],
   "source": [
    "# Addition\n",
    "print(x+1)\n",
    "\n",
    "# Subtraction\n",
    "print(x-1)\n",
    "\n",
    "# Multiplication\n",
    "print(x*2)\n",
    "\n",
    "# Division\n",
    "print(x/2)\n",
    "\n",
    "# integer division\n",
    "print(x*10 //2)\n",
    "\n",
    "# Modulus\n",
    "print(x*10 % 3)\n",
    "\n",
    "# Power\n",
    "print(x**2)"
   ]
  },
  {
   "cell_type": "code",
   "execution_count": 33,
   "id": "1f6e8c4b",
   "metadata": {},
   "outputs": [
    {
     "name": "stdout",
     "output_type": "stream",
     "text": [
      "tensor([[-1, -2, -3],\n",
      "        [-4, -5, -6]])\n"
     ]
    }
   ],
   "source": [
    "a=torch.tensor(([1,2,3],[4,5,6]))\n",
    "b=torch.tensor(([-7,-8,9],[10,-11,12]))\n",
    "\n",
    "print(torch.neg(a))  # Negation"
   ]
  },
  {
   "cell_type": "code",
   "execution_count": null,
   "id": "5cdde812",
   "metadata": {},
   "outputs": [
    {
     "name": "stdout",
     "output_type": "stream",
     "text": [
      "tensor([[1., 2., 3.],\n",
      "        [4., 5., 6.]])\n",
      "tensor(21.)\n",
      "tensor([5., 7., 9.])\n",
      "tensor([ 6., 15.])\n",
      "tensor(3.5000)\n",
      "tensor(6.)\n",
      "tensor(1.)\n",
      "tensor(720.)\n",
      "tensor(1.8708)\n",
      "tensor(3.5000)\n",
      "tensor(3.)\n",
      "tensor(5)\n",
      "tensor(0)\n"
     ]
    }
   ],
   "source": [
    "# Reduction Operations\n",
    "\n",
    "a=torch.tensor(([1,2,3],[4,5,6]),dtype=torch.float32)\n",
    "print(a)\n",
    "print(a.sum())  # Sum of all elements\n",
    "print(a.sum(dim=0))  # Sum along the first dimension (columns) \n",
    "print(a.sum(dim=1))  # Sum along the second dimension (rows)\n",
    "print(torch.mean(a))  # Mean of all elements\n",
    "print(torch.max(a))  # Maximum value\n",
    "print(torch.min(a))  # Minimum value\n",
    "print(torch.prod(a))  # Product of all elements\n",
    "print(torch.std(a))  # Standard deviation\n",
    "print(torch.var(a))  # Variance\n",
    "print(torch.median(a))  # Median\n",
    "print(torch.argmax(a))  # Index of the maximum value\n",
    "print(torch.argmin(a))  # Index of the minimum value\n"
   ]
  },
  {
   "cell_type": "code",
   "execution_count": 49,
   "id": "b0666660",
   "metadata": {},
   "outputs": [
    {
     "name": "stdout",
     "output_type": "stream",
     "text": [
      "tensor([[1., 4.],\n",
      "        [2., 5.],\n",
      "        [3., 6.]])\n"
     ]
    }
   ],
   "source": [
    "# Matrix Operations\n",
    "\n",
    "a=torch.tensor(([1,2,3],[4,5,6]),dtype=torch.float32)\n",
    "b=torch.tensor(([7,8,9],[10,11,12]),dtype=torch.float32)\n",
    "\n",
    "print(torch.transpose(a,0,1))  # Transpose of a matrix\n"
   ]
  },
  {
   "cell_type": "code",
   "execution_count": 56,
   "id": "ab49389f",
   "metadata": {},
   "outputs": [
    {
     "name": "stdout",
     "output_type": "stream",
     "text": [
      "tensor([ 0.3679,  1.0000,  2.7183,  7.3891, 20.0855, 54.5982])\n",
      "tensor([   nan,   -inf, 0.0000, 0.6931, 1.0986, 1.3863])\n",
      "tensor([   nan, 0.0000, 1.0000, 1.4142, 1.7321, 2.0000])\n",
      "tensor([-0.8415,  0.0000,  0.8415,  0.9093,  0.1411, -0.7568])\n",
      "tensor([ 0.5403,  1.0000,  0.5403, -0.4161, -0.9900, -0.6536])\n",
      "tensor([0.2689, 0.5000, 0.7311, 0.8808, 0.9526, 0.9820])\n",
      "tensor([0, 0, 1, 2, 3, 4])\n"
     ]
    }
   ],
   "source": [
    "# Special Functions\n",
    "\n",
    "a=torch.tensor(([-1,0,1,2,3,4]))\n",
    "\n",
    "print(torch.exp(a))  # Exponential function\n",
    "print(torch.log(a))  # Natural logarithm\n",
    "print(torch.sqrt(a))  # Square root\n",
    "print(torch.sin(a))  # Sine function\n",
    "print(torch.cos(a))  # Cosine function\n",
    "print(torch.sigmoid(a)) #Sigmoid function\n",
    "print(torch.relu(a)) #Rectified Linear Unit function"
   ]
  },
  {
   "cell_type": "code",
   "execution_count": null,
   "id": "64d1690c",
   "metadata": {},
   "outputs": [
    {
     "name": "stdout",
     "output_type": "stream",
     "text": [
      "tensor([[1., 2., 3.],\n",
      "        [4., 5., 6.]])\n",
      "tensor([[2., 3., 4.],\n",
      "        [5., 6., 7.]])\n",
      "tensor([[1., 2., 3.],\n",
      "        [4., 5., 6.]])\n",
      "tensor([[ 2.,  4.,  6.],\n",
      "        [ 8., 10., 12.]])\n"
     ]
    }
   ],
   "source": [
    "# For inplace changes add an underscore to the function name\n",
    "# Example\n",
    "a=torch.tensor(([1,2,3],[4,5,6]),dtype=torch.float32)\n",
    "print(a)\n",
    "a.add_(1)  # In-place addition\n",
    "print(a)\n",
    "a.sub_(1)  # In-place subtraction\n",
    "print(a)\n",
    "a.mul_(2)  # In-place multiplication\n",
    "print(a)\n"
   ]
  },
  {
   "cell_type": "markdown",
   "id": "de4fa75c",
   "metadata": {},
   "source": [
    "AUTOGRAD IN PYTORCH"
   ]
  },
  {
   "cell_type": "code",
   "execution_count": null,
   "id": "693ceafe",
   "metadata": {},
   "outputs": [
    {
     "name": "stdout",
     "output_type": "stream",
     "text": [
      "tensor(9., grad_fn=<PowBackward0>)\n"
     ]
    }
   ],
   "source": [
    "x=torch.tensor(3.0,requires_grad=True)  # Create a tensor with gradient tracking\n",
    "y=x**2\n",
    "\n"
   ]
  },
  {
   "cell_type": "code",
   "execution_count": 61,
   "id": "3aed6990",
   "metadata": {},
   "outputs": [
    {
     "name": "stdout",
     "output_type": "stream",
     "text": [
      "tensor(6.)\n"
     ]
    }
   ],
   "source": [
    "y.backward()  # Compute the gradient\n",
    "print(x.grad)  # Print the gradient"
   ]
  },
  {
   "cell_type": "code",
   "execution_count": 65,
   "id": "b35e0050",
   "metadata": {},
   "outputs": [
    {
     "name": "stdout",
     "output_type": "stream",
     "text": [
      "tensor(-7.6613)\n"
     ]
    }
   ],
   "source": [
    "x=torch.tensor(4.0,requires_grad=True)  # Create a tensor with gradient tracking\n",
    "y=x**2\n",
    "z=torch.sin(y)  # Create another tensor\n",
    "z.backward()  # Compute the gradient\n",
    "print(x.grad)  # Print the gradient"
   ]
  },
  {
   "cell_type": "code",
   "execution_count": null,
   "id": "2cc03f62",
   "metadata": {},
   "outputs": [
    {
     "name": "stdout",
     "output_type": "stream",
     "text": [
      "tensor(6.6918)\n",
      "tensor(0.9988)\n"
     ]
    },
    {
     "data": {
      "text/plain": [
       "tensor(0.)"
      ]
     },
     "execution_count": 69,
     "metadata": {},
     "output_type": "execute_result"
    }
   ],
   "source": [
    "x=torch.tensor(6.7)\n",
    "y=torch.tensor(0.0)\n",
    "\n",
    "w=torch.tensor(1.0,requires_grad=True)\n",
    "b=torch.tensor(0.0,requires_grad=True)\n",
    "\n",
    "z=w*x+b  # Linear equation\n",
    "y_pred=torch.sigmoid(z)  # Sigmoid activation function\n",
    "loss=torch.nn.functional.binary_cross_entropy(y_pred,y)  # Binary cross-entropy loss\n",
    "\n",
    "loss.backward()  # Compute the gradient\n",
    "print(w.grad)  # Print the gradient of w\n",
    "print(b.grad)  # Print the gradient of b\n",
    "\n",
    "w.grad.zero_()  # Zero the gradients->Avoid gradient accumulation\n",
    "b.grad.zero_()  # Zero the gradients->Avoid gradient accumulation"
   ]
  }
 ],
 "metadata": {
  "kernelspec": {
   "display_name": "base",
   "language": "python",
   "name": "python3"
  },
  "language_info": {
   "codemirror_mode": {
    "name": "ipython",
    "version": 3
   },
   "file_extension": ".py",
   "mimetype": "text/x-python",
   "name": "python",
   "nbconvert_exporter": "python",
   "pygments_lexer": "ipython3",
   "version": "3.12.7"
  }
 },
 "nbformat": 4,
 "nbformat_minor": 5
}
